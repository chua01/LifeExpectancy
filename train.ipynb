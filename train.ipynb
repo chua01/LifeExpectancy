{
 "cells": [
  {
   "cell_type": "code",
   "execution_count": 1,
   "id": "fcb4b5fe",
   "metadata": {},
   "outputs": [
    {
     "ename": "ModuleNotFoundError",
     "evalue": "No module named 'streamlit'",
     "output_type": "error",
     "traceback": [
      "\u001b[1;31m---------------------------------------------------------------------------\u001b[0m",
      "\u001b[1;31mModuleNotFoundError\u001b[0m                       Traceback (most recent call last)",
      "Cell \u001b[1;32mIn[1], line 1\u001b[0m\n\u001b[1;32m----> 1\u001b[0m \u001b[38;5;28;01mimport\u001b[39;00m \u001b[38;5;21;01mstreamlit\u001b[39;00m \u001b[38;5;28;01mas\u001b[39;00m \u001b[38;5;21;01mst\u001b[39;00m\n\u001b[0;32m      2\u001b[0m \u001b[38;5;28;01mimport\u001b[39;00m \u001b[38;5;21;01mpandas\u001b[39;00m \u001b[38;5;28;01mas\u001b[39;00m \u001b[38;5;21;01mpd\u001b[39;00m\n\u001b[0;32m      3\u001b[0m \u001b[38;5;28;01mimport\u001b[39;00m \u001b[38;5;21;01mnumpy\u001b[39;00m \u001b[38;5;28;01mas\u001b[39;00m \u001b[38;5;21;01mnp\u001b[39;00m\n",
      "\u001b[1;31mModuleNotFoundError\u001b[0m: No module named 'streamlit'"
     ]
    }
   ],
   "source": [
    "import streamlit as st\n",
    "import pandas as pd\n",
    "import numpy as np\n",
    "import joblib\n",
    "from sklearn.metrics import r2_score\n",
    "\n",
    "# Load the models and encoder\n",
    "lr_model = joblib.load('linear_regression_model.pkl')\n",
    "rf_model_important = joblib.load('random_forest_model.pkl')\n",
    "encoder = joblib.load('target_encoder.pkl')\n",
    "\n",
    "# Define the important features based on the model\n",
    "important_rf_features = ['AdultMortality', 'BMI', 'under-fivedeaths', 'Polio', 'Totalexpenditure',\n",
    "                         'Diphtheria', 'HIV/AIDS', 'GDP', 'thinness1-19years', 'Incomecompositionofresources']\n",
    "\n",
    "# Define the function to predict life expectancy\n",
    "def predict_life_expectancy(model, input_data, important_features=None):\n",
    "    if important_features:\n",
    "        input_data = input_data[important_features]\n",
    "    return model.predict(input_data)\n",
    "\n",
    "# Streamlit app\n",
    "st.title(\"Life Expectancy Prediction\")\n",
    "\n",
    "st.write(\"\"\"\n",
    "# Predict Life Expectancy\n",
    "This app predicts the life expectancy based on various health and economic factors.\n",
    "\"\"\")\n",
    "\n",
    "# Collect user input features\n",
    "st.sidebar.header(\"Input Features\")\n",
    "country = st.sidebar.selectbox('Country', ['Afghanistan', 'CountryName'])  # Example values\n",
    "year = st.sidebar.slider('Year', 2000, 2015, 2015)\n",
    "status = st.sidebar.selectbox('Status', ['Developed', 'Developing'])\n",
    "gdp = st.sidebar.number_input('GDP', min_value=0, value=40000)\n",
    "schooling = st.sidebar.number_input('Schooling', min_value=0, max_value=20, value=15)\n",
    "income_composition = st.sidebar.number_input('Income Composition of Resources', min_value=0.0, max_value=1.0, value=0.8)\n",
    "\n",
    "# Create a dictionary with user inputs\n",
    "example_data = {\n",
    "    'Country': [country],\n",
    "    'Year': [year],\n",
    "    'Status': [status],\n",
    "    'GDP': [gdp],\n",
    "    'Schooling': [schooling],\n",
    "    'Incomecompositionofresources': [income_composition]\n",
    "}\n",
    "\n",
    "# Fill in missing columns with default values\n",
    "for col in important_rf_features:\n",
    "    if col not in example_data:\n",
    "        example_data[col] = [0]  # Default value, replace with mean or mode as appropriate\n",
    "\n",
    "input_data = pd.DataFrame(example_data)\n",
    "\n",
    "# Encode categorical features\n",
    "input_data[['Country', 'Status']] = encoder.transform(input_data[['Country', 'Status']])\n",
    "\n",
    "# Make prediction using the chosen model\n",
    "if r2_score(y_test, y_pred_rf) > r2_score(y_important_test, y_pred_lr):\n",
    "    prediction = predict_life_expectancy(rf_model_important, input_data, important_rf_features)\n",
    "    chosen_model = \"Random Forest (Important Features)\"\n",
    "else:\n",
    "    prediction = predict_life_expectancy(lr_model, input_data, important_features)\n",
    "    chosen_model = \"Linear Regression\"\n",
    "\n",
    "st.write(f\"The chosen model for deployment is: {chosen_model}\")\n",
    "st.write(f\"Predicted Life Expectancy: {prediction[0]:.2f}\")\n"
   ]
  },
  {
   "cell_type": "code",
   "execution_count": null,
   "id": "2ba53221",
   "metadata": {},
   "outputs": [],
   "source": []
  }
 ],
 "metadata": {
  "kernelspec": {
   "display_name": "Python 3 (ipykernel)",
   "language": "python",
   "name": "python3"
  },
  "language_info": {
   "codemirror_mode": {
    "name": "ipython",
    "version": 3
   },
   "file_extension": ".py",
   "mimetype": "text/x-python",
   "name": "python",
   "nbconvert_exporter": "python",
   "pygments_lexer": "ipython3",
   "version": "3.11.5"
  }
 },
 "nbformat": 4,
 "nbformat_minor": 5
}
